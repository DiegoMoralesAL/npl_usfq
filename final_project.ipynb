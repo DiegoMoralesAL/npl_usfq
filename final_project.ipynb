{
 "cells": [
  {
   "cell_type": "code",
   "execution_count": 26,
   "outputs": [],
   "source": [
    "from pytubefix import YouTube\n",
    "from pytubefix.cli import on_progress\n",
    "\n",
    "url = 'https://www.youtube.com/watch?v=-jRiPImDF3w'\n",
    "yt = YouTube(url, on_progress_callback=on_progress)\n",
    "\n",
    "def itags():\n",
    "    max_audio = 0\n",
    "    audio_value = 0\n",
    "    for audio_stream in yt.streams.filter(only_audio=True):\n",
    "        abr = int(audio_stream.abr.replace('kbps', ''))\n",
    "        if abr > max_audio:\n",
    "            max_audio = abr\n",
    "            audio_value = audio_stream.itag\n",
    "\n",
    "    return audio_value\n",
    "\n",
    "\n",
    "audio = itags()\n",
    "audio_file = yt.streams.get_by_itag(audio).download()"
   ],
   "metadata": {
    "collapsed": false
   }
  },
  {
   "cell_type": "code",
   "execution_count": 27,
   "outputs": [],
   "source": [
    "import os\n",
    "from google.cloud import speech\n",
    "\n",
    "# Configurar credenciales de Google Cloud\n",
    "os.environ[\"GOOGLE_APPLICATION_CREDENTIALS\"] = \"dsma-410321-dfea94bcf18f.json\"\n",
    "\n",
    "def transcribe_audio(audio_file):\n",
    "    client = speech.SpeechClient()\n",
    "\n",
    "    # Cargar el archivo de audio\n",
    "    with open(audio_file, \"rb\") as audio:\n",
    "        content = audio.read()\n",
    "\n",
    "    audio = speech.RecognitionAudio(content=content)\n",
    "    config = speech.RecognitionConfig(\n",
    "        encoding=speech.RecognitionConfig.AudioEncoding.MP3,\n",
    "        sample_rate_hertz=44100,\n",
    "        language_code=\"es-ES\"\n",
    "    )\n",
    "\n",
    "    # Realizar la transcripción\n",
    "    response = client.recognize(config=config, audio=audio)\n",
    "\n",
    "    results = []\n",
    "\n",
    "    # Procesar y mostrar los resultados\n",
    "    for result in response.results:\n",
    "        results.append(result.alternatives[0].transcript)\n",
    "        print(f\"Transcripción: {result.alternatives[0].transcript}\")\n",
    "\n",
    "    return results"
   ],
   "metadata": {
    "collapsed": false
   }
  },
  {
   "cell_type": "code",
   "execution_count": 28,
   "outputs": [
    {
     "ename": "KeyboardInterrupt",
     "evalue": "",
     "output_type": "error",
     "traceback": [
      "\u001B[1;31m---------------------------------------------------------------------------\u001B[0m",
      "\u001B[1;31mKeyboardInterrupt\u001B[0m                         Traceback (most recent call last)",
      "Cell \u001B[1;32mIn[28], line 1\u001B[0m\n\u001B[1;32m----> 1\u001B[0m transcripts \u001B[38;5;241m=\u001B[39m \u001B[43mtranscribe_audio\u001B[49m\u001B[43m(\u001B[49m\u001B[43maudio_file\u001B[49m\u001B[43m)\u001B[49m\n",
      "Cell \u001B[1;32mIn[27], line 22\u001B[0m, in \u001B[0;36mtranscribe_audio\u001B[1;34m(audio_file)\u001B[0m\n\u001B[0;32m     15\u001B[0m config \u001B[38;5;241m=\u001B[39m speech\u001B[38;5;241m.\u001B[39mRecognitionConfig(\n\u001B[0;32m     16\u001B[0m     encoding\u001B[38;5;241m=\u001B[39mspeech\u001B[38;5;241m.\u001B[39mRecognitionConfig\u001B[38;5;241m.\u001B[39mAudioEncoding\u001B[38;5;241m.\u001B[39mMP3,\n\u001B[0;32m     17\u001B[0m     sample_rate_hertz\u001B[38;5;241m=\u001B[39m\u001B[38;5;241m44100\u001B[39m,\n\u001B[0;32m     18\u001B[0m     language_code\u001B[38;5;241m=\u001B[39m\u001B[38;5;124m\"\u001B[39m\u001B[38;5;124mes-ES\u001B[39m\u001B[38;5;124m\"\u001B[39m\n\u001B[0;32m     19\u001B[0m )\n\u001B[0;32m     21\u001B[0m \u001B[38;5;66;03m# Realizar la transcripción\u001B[39;00m\n\u001B[1;32m---> 22\u001B[0m response \u001B[38;5;241m=\u001B[39m \u001B[43mclient\u001B[49m\u001B[38;5;241;43m.\u001B[39;49m\u001B[43mrecognize\u001B[49m\u001B[43m(\u001B[49m\u001B[43mconfig\u001B[49m\u001B[38;5;241;43m=\u001B[39;49m\u001B[43mconfig\u001B[49m\u001B[43m,\u001B[49m\u001B[43m \u001B[49m\u001B[43maudio\u001B[49m\u001B[38;5;241;43m=\u001B[39;49m\u001B[43maudio\u001B[49m\u001B[43m)\u001B[49m\n\u001B[0;32m     24\u001B[0m results \u001B[38;5;241m=\u001B[39m []\n\u001B[0;32m     26\u001B[0m \u001B[38;5;66;03m# Procesar y mostrar los resultados\u001B[39;00m\n",
      "File \u001B[1;32mE:\\Proyectos\\USFQ\\NPL\\venv\\lib\\site-packages\\google\\cloud\\speech_v1\\services\\speech\\client.py:811\u001B[0m, in \u001B[0;36mSpeechClient.recognize\u001B[1;34m(self, request, config, audio, retry, timeout, metadata)\u001B[0m\n\u001B[0;32m    808\u001B[0m \u001B[38;5;28mself\u001B[39m\u001B[38;5;241m.\u001B[39m_validate_universe_domain()\n\u001B[0;32m    810\u001B[0m \u001B[38;5;66;03m# Send the request.\u001B[39;00m\n\u001B[1;32m--> 811\u001B[0m response \u001B[38;5;241m=\u001B[39m \u001B[43mrpc\u001B[49m\u001B[43m(\u001B[49m\n\u001B[0;32m    812\u001B[0m \u001B[43m    \u001B[49m\u001B[43mrequest\u001B[49m\u001B[43m,\u001B[49m\n\u001B[0;32m    813\u001B[0m \u001B[43m    \u001B[49m\u001B[43mretry\u001B[49m\u001B[38;5;241;43m=\u001B[39;49m\u001B[43mretry\u001B[49m\u001B[43m,\u001B[49m\n\u001B[0;32m    814\u001B[0m \u001B[43m    \u001B[49m\u001B[43mtimeout\u001B[49m\u001B[38;5;241;43m=\u001B[39;49m\u001B[43mtimeout\u001B[49m\u001B[43m,\u001B[49m\n\u001B[0;32m    815\u001B[0m \u001B[43m    \u001B[49m\u001B[43mmetadata\u001B[49m\u001B[38;5;241;43m=\u001B[39;49m\u001B[43mmetadata\u001B[49m\u001B[43m,\u001B[49m\n\u001B[0;32m    816\u001B[0m \u001B[43m\u001B[49m\u001B[43m)\u001B[49m\n\u001B[0;32m    818\u001B[0m \u001B[38;5;66;03m# Done; return the response.\u001B[39;00m\n\u001B[0;32m    819\u001B[0m \u001B[38;5;28;01mreturn\u001B[39;00m response\n",
      "File \u001B[1;32mE:\\Proyectos\\USFQ\\NPL\\venv\\lib\\site-packages\\google\\api_core\\gapic_v1\\method.py:131\u001B[0m, in \u001B[0;36m_GapicCallable.__call__\u001B[1;34m(self, timeout, retry, compression, *args, **kwargs)\u001B[0m\n\u001B[0;32m    128\u001B[0m \u001B[38;5;28;01mif\u001B[39;00m \u001B[38;5;28mself\u001B[39m\u001B[38;5;241m.\u001B[39m_compression \u001B[38;5;129;01mis\u001B[39;00m \u001B[38;5;129;01mnot\u001B[39;00m \u001B[38;5;28;01mNone\u001B[39;00m:\n\u001B[0;32m    129\u001B[0m     kwargs[\u001B[38;5;124m\"\u001B[39m\u001B[38;5;124mcompression\u001B[39m\u001B[38;5;124m\"\u001B[39m] \u001B[38;5;241m=\u001B[39m compression\n\u001B[1;32m--> 131\u001B[0m \u001B[38;5;28;01mreturn\u001B[39;00m wrapped_func(\u001B[38;5;241m*\u001B[39margs, \u001B[38;5;241m*\u001B[39m\u001B[38;5;241m*\u001B[39mkwargs)\n",
      "File \u001B[1;32mE:\\Proyectos\\USFQ\\NPL\\venv\\lib\\site-packages\\google\\api_core\\retry\\retry_unary.py:293\u001B[0m, in \u001B[0;36mRetry.__call__.<locals>.retry_wrapped_func\u001B[1;34m(*args, **kwargs)\u001B[0m\n\u001B[0;32m    289\u001B[0m target \u001B[38;5;241m=\u001B[39m functools\u001B[38;5;241m.\u001B[39mpartial(func, \u001B[38;5;241m*\u001B[39margs, \u001B[38;5;241m*\u001B[39m\u001B[38;5;241m*\u001B[39mkwargs)\n\u001B[0;32m    290\u001B[0m sleep_generator \u001B[38;5;241m=\u001B[39m exponential_sleep_generator(\n\u001B[0;32m    291\u001B[0m     \u001B[38;5;28mself\u001B[39m\u001B[38;5;241m.\u001B[39m_initial, \u001B[38;5;28mself\u001B[39m\u001B[38;5;241m.\u001B[39m_maximum, multiplier\u001B[38;5;241m=\u001B[39m\u001B[38;5;28mself\u001B[39m\u001B[38;5;241m.\u001B[39m_multiplier\n\u001B[0;32m    292\u001B[0m )\n\u001B[1;32m--> 293\u001B[0m \u001B[38;5;28;01mreturn\u001B[39;00m \u001B[43mretry_target\u001B[49m\u001B[43m(\u001B[49m\n\u001B[0;32m    294\u001B[0m \u001B[43m    \u001B[49m\u001B[43mtarget\u001B[49m\u001B[43m,\u001B[49m\n\u001B[0;32m    295\u001B[0m \u001B[43m    \u001B[49m\u001B[38;5;28;43mself\u001B[39;49m\u001B[38;5;241;43m.\u001B[39;49m\u001B[43m_predicate\u001B[49m\u001B[43m,\u001B[49m\n\u001B[0;32m    296\u001B[0m \u001B[43m    \u001B[49m\u001B[43msleep_generator\u001B[49m\u001B[43m,\u001B[49m\n\u001B[0;32m    297\u001B[0m \u001B[43m    \u001B[49m\u001B[43mtimeout\u001B[49m\u001B[38;5;241;43m=\u001B[39;49m\u001B[38;5;28;43mself\u001B[39;49m\u001B[38;5;241;43m.\u001B[39;49m\u001B[43m_timeout\u001B[49m\u001B[43m,\u001B[49m\n\u001B[0;32m    298\u001B[0m \u001B[43m    \u001B[49m\u001B[43mon_error\u001B[49m\u001B[38;5;241;43m=\u001B[39;49m\u001B[43mon_error\u001B[49m\u001B[43m,\u001B[49m\n\u001B[0;32m    299\u001B[0m \u001B[43m\u001B[49m\u001B[43m)\u001B[49m\n",
      "File \u001B[1;32mE:\\Proyectos\\USFQ\\NPL\\venv\\lib\\site-packages\\google\\api_core\\retry\\retry_unary.py:144\u001B[0m, in \u001B[0;36mretry_target\u001B[1;34m(target, predicate, sleep_generator, timeout, on_error, exception_factory, **kwargs)\u001B[0m\n\u001B[0;32m    142\u001B[0m \u001B[38;5;28;01mfor\u001B[39;00m sleep \u001B[38;5;129;01min\u001B[39;00m sleep_generator:\n\u001B[0;32m    143\u001B[0m     \u001B[38;5;28;01mtry\u001B[39;00m:\n\u001B[1;32m--> 144\u001B[0m         result \u001B[38;5;241m=\u001B[39m \u001B[43mtarget\u001B[49m\u001B[43m(\u001B[49m\u001B[43m)\u001B[49m\n\u001B[0;32m    145\u001B[0m         \u001B[38;5;28;01mif\u001B[39;00m inspect\u001B[38;5;241m.\u001B[39misawaitable(result):\n\u001B[0;32m    146\u001B[0m             warnings\u001B[38;5;241m.\u001B[39mwarn(_ASYNC_RETRY_WARNING)\n",
      "File \u001B[1;32mE:\\Proyectos\\USFQ\\NPL\\venv\\lib\\site-packages\\google\\api_core\\timeout.py:120\u001B[0m, in \u001B[0;36mTimeToDeadlineTimeout.__call__.<locals>.func_with_timeout\u001B[1;34m(*args, **kwargs)\u001B[0m\n\u001B[0;32m    117\u001B[0m     \u001B[38;5;66;03m# Avoid setting negative timeout\u001B[39;00m\n\u001B[0;32m    118\u001B[0m     kwargs[\u001B[38;5;124m\"\u001B[39m\u001B[38;5;124mtimeout\u001B[39m\u001B[38;5;124m\"\u001B[39m] \u001B[38;5;241m=\u001B[39m \u001B[38;5;28mmax\u001B[39m(\u001B[38;5;241m0\u001B[39m, \u001B[38;5;28mself\u001B[39m\u001B[38;5;241m.\u001B[39m_timeout \u001B[38;5;241m-\u001B[39m time_since_first_attempt)\n\u001B[1;32m--> 120\u001B[0m \u001B[38;5;28;01mreturn\u001B[39;00m func(\u001B[38;5;241m*\u001B[39margs, \u001B[38;5;241m*\u001B[39m\u001B[38;5;241m*\u001B[39mkwargs)\n",
      "File \u001B[1;32mE:\\Proyectos\\USFQ\\NPL\\venv\\lib\\site-packages\\google\\api_core\\grpc_helpers.py:76\u001B[0m, in \u001B[0;36m_wrap_unary_errors.<locals>.error_remapped_callable\u001B[1;34m(*args, **kwargs)\u001B[0m\n\u001B[0;32m     73\u001B[0m \u001B[38;5;129m@functools\u001B[39m\u001B[38;5;241m.\u001B[39mwraps(callable_)\n\u001B[0;32m     74\u001B[0m \u001B[38;5;28;01mdef\u001B[39;00m \u001B[38;5;21merror_remapped_callable\u001B[39m(\u001B[38;5;241m*\u001B[39margs, \u001B[38;5;241m*\u001B[39m\u001B[38;5;241m*\u001B[39mkwargs):\n\u001B[0;32m     75\u001B[0m     \u001B[38;5;28;01mtry\u001B[39;00m:\n\u001B[1;32m---> 76\u001B[0m         \u001B[38;5;28;01mreturn\u001B[39;00m callable_(\u001B[38;5;241m*\u001B[39margs, \u001B[38;5;241m*\u001B[39m\u001B[38;5;241m*\u001B[39mkwargs)\n\u001B[0;32m     77\u001B[0m     \u001B[38;5;28;01mexcept\u001B[39;00m grpc\u001B[38;5;241m.\u001B[39mRpcError \u001B[38;5;28;01mas\u001B[39;00m exc:\n\u001B[0;32m     78\u001B[0m         \u001B[38;5;28;01mraise\u001B[39;00m exceptions\u001B[38;5;241m.\u001B[39mfrom_grpc_error(exc) \u001B[38;5;28;01mfrom\u001B[39;00m \u001B[38;5;21;01mexc\u001B[39;00m\n",
      "File \u001B[1;32mE:\\Proyectos\\USFQ\\NPL\\venv\\lib\\site-packages\\grpc\\_channel.py:1178\u001B[0m, in \u001B[0;36m_UnaryUnaryMultiCallable.__call__\u001B[1;34m(self, request, timeout, metadata, credentials, wait_for_ready, compression)\u001B[0m\n\u001B[0;32m   1166\u001B[0m \u001B[38;5;28;01mdef\u001B[39;00m \u001B[38;5;21m__call__\u001B[39m(\n\u001B[0;32m   1167\u001B[0m     \u001B[38;5;28mself\u001B[39m,\n\u001B[0;32m   1168\u001B[0m     request: Any,\n\u001B[1;32m   (...)\u001B[0m\n\u001B[0;32m   1173\u001B[0m     compression: Optional[grpc\u001B[38;5;241m.\u001B[39mCompression] \u001B[38;5;241m=\u001B[39m \u001B[38;5;28;01mNone\u001B[39;00m,\n\u001B[0;32m   1174\u001B[0m ) \u001B[38;5;241m-\u001B[39m\u001B[38;5;241m>\u001B[39m Any:\n\u001B[0;32m   1175\u001B[0m     (\n\u001B[0;32m   1176\u001B[0m         state,\n\u001B[0;32m   1177\u001B[0m         call,\n\u001B[1;32m-> 1178\u001B[0m     ) \u001B[38;5;241m=\u001B[39m \u001B[38;5;28;43mself\u001B[39;49m\u001B[38;5;241;43m.\u001B[39;49m\u001B[43m_blocking\u001B[49m\u001B[43m(\u001B[49m\n\u001B[0;32m   1179\u001B[0m \u001B[43m        \u001B[49m\u001B[43mrequest\u001B[49m\u001B[43m,\u001B[49m\u001B[43m \u001B[49m\u001B[43mtimeout\u001B[49m\u001B[43m,\u001B[49m\u001B[43m \u001B[49m\u001B[43mmetadata\u001B[49m\u001B[43m,\u001B[49m\u001B[43m \u001B[49m\u001B[43mcredentials\u001B[49m\u001B[43m,\u001B[49m\u001B[43m \u001B[49m\u001B[43mwait_for_ready\u001B[49m\u001B[43m,\u001B[49m\u001B[43m \u001B[49m\u001B[43mcompression\u001B[49m\n\u001B[0;32m   1180\u001B[0m \u001B[43m    \u001B[49m\u001B[43m)\u001B[49m\n\u001B[0;32m   1181\u001B[0m     \u001B[38;5;28;01mreturn\u001B[39;00m _end_unary_response_blocking(state, call, \u001B[38;5;28;01mFalse\u001B[39;00m, \u001B[38;5;28;01mNone\u001B[39;00m)\n",
      "File \u001B[1;32mE:\\Proyectos\\USFQ\\NPL\\venv\\lib\\site-packages\\grpc\\_channel.py:1162\u001B[0m, in \u001B[0;36m_UnaryUnaryMultiCallable._blocking\u001B[1;34m(self, request, timeout, metadata, credentials, wait_for_ready, compression)\u001B[0m\n\u001B[0;32m   1145\u001B[0m state\u001B[38;5;241m.\u001B[39mtarget \u001B[38;5;241m=\u001B[39m _common\u001B[38;5;241m.\u001B[39mdecode(\u001B[38;5;28mself\u001B[39m\u001B[38;5;241m.\u001B[39m_target)\n\u001B[0;32m   1146\u001B[0m call \u001B[38;5;241m=\u001B[39m \u001B[38;5;28mself\u001B[39m\u001B[38;5;241m.\u001B[39m_channel\u001B[38;5;241m.\u001B[39msegregated_call(\n\u001B[0;32m   1147\u001B[0m     cygrpc\u001B[38;5;241m.\u001B[39mPropagationConstants\u001B[38;5;241m.\u001B[39mGRPC_PROPAGATE_DEFAULTS,\n\u001B[0;32m   1148\u001B[0m     \u001B[38;5;28mself\u001B[39m\u001B[38;5;241m.\u001B[39m_method,\n\u001B[1;32m   (...)\u001B[0m\n\u001B[0;32m   1160\u001B[0m     \u001B[38;5;28mself\u001B[39m\u001B[38;5;241m.\u001B[39m_registered_call_handle,\n\u001B[0;32m   1161\u001B[0m )\n\u001B[1;32m-> 1162\u001B[0m event \u001B[38;5;241m=\u001B[39m \u001B[43mcall\u001B[49m\u001B[38;5;241;43m.\u001B[39;49m\u001B[43mnext_event\u001B[49m\u001B[43m(\u001B[49m\u001B[43m)\u001B[49m\n\u001B[0;32m   1163\u001B[0m _handle_event(event, state, \u001B[38;5;28mself\u001B[39m\u001B[38;5;241m.\u001B[39m_response_deserializer)\n\u001B[0;32m   1164\u001B[0m \u001B[38;5;28;01mreturn\u001B[39;00m state, call\n",
      "File \u001B[1;32msrc\\\\python\\\\grpcio\\\\grpc\\\\_cython\\\\_cygrpc/channel.pyx.pxi:388\u001B[0m, in \u001B[0;36mgrpc._cython.cygrpc.SegregatedCall.next_event\u001B[1;34m()\u001B[0m\n",
      "File \u001B[1;32msrc\\\\python\\\\grpcio\\\\grpc\\\\_cython\\\\_cygrpc/channel.pyx.pxi:211\u001B[0m, in \u001B[0;36mgrpc._cython.cygrpc._next_call_event\u001B[1;34m()\u001B[0m\n",
      "File \u001B[1;32msrc\\\\python\\\\grpcio\\\\grpc\\\\_cython\\\\_cygrpc/channel.pyx.pxi:205\u001B[0m, in \u001B[0;36mgrpc._cython.cygrpc._next_call_event\u001B[1;34m()\u001B[0m\n",
      "File \u001B[1;32msrc\\\\python\\\\grpcio\\\\grpc\\\\_cython\\\\_cygrpc/completion_queue.pyx.pxi:78\u001B[0m, in \u001B[0;36mgrpc._cython.cygrpc._latent_event\u001B[1;34m()\u001B[0m\n",
      "File \u001B[1;32msrc\\\\python\\\\grpcio\\\\grpc\\\\_cython\\\\_cygrpc/completion_queue.pyx.pxi:61\u001B[0m, in \u001B[0;36mgrpc._cython.cygrpc._internal_latent_event\u001B[1;34m()\u001B[0m\n",
      "File \u001B[1;32msrc\\\\python\\\\grpcio\\\\grpc\\\\_cython\\\\_cygrpc/completion_queue.pyx.pxi:42\u001B[0m, in \u001B[0;36mgrpc._cython.cygrpc._next\u001B[1;34m()\u001B[0m\n",
      "\u001B[1;31mKeyboardInterrupt\u001B[0m: "
     ]
    }
   ],
   "source": [
    "transcripts = transcribe_audio(audio_file)"
   ],
   "metadata": {
    "collapsed": false
   }
  }
 ],
 "metadata": {
  "kernelspec": {
   "display_name": "Python 3",
   "language": "python",
   "name": "python3"
  },
  "language_info": {
   "codemirror_mode": {
    "name": "ipython",
    "version": 2
   },
   "file_extension": ".py",
   "mimetype": "text/x-python",
   "name": "python",
   "nbconvert_exporter": "python",
   "pygments_lexer": "ipython2",
   "version": "2.7.6"
  }
 },
 "nbformat": 4,
 "nbformat_minor": 0
}
