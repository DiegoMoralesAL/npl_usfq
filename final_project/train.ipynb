{
 "cells": [
  {
   "cell_type": "code",
   "execution_count": 1,
   "outputs": [
    {
     "name": "stdout",
     "output_type": "stream",
     "text": [
      "Descargando stopwords de NLTK...\n",
      "Cargando la base de datos...\n"
     ]
    },
    {
     "name": "stderr",
     "output_type": "stream",
     "text": [
      "[nltk_data] Downloading package stopwords to\n",
      "[nltk_data]     C:\\Users\\diego\\AppData\\Roaming\\nltk_data...\n",
      "[nltk_data]   Package stopwords is already up-to-date!\n"
     ]
    },
    {
     "name": "stdout",
     "output_type": "stream",
     "text": [
      "Mostrando las primeras filas del dataset:\n",
      "   Unnamed: 0           artist_name            track_name  release_date genre  \\\n",
      "0           0                mukesh  mohabbat bhi jhoothi          1950   pop   \n",
      "1           4         frankie laine             i believe          1950   pop   \n",
      "2           6           johnnie ray                   cry          1950   pop   \n",
      "3          10           pérez prado              patricia          1950   pop   \n",
      "4          12  giorgos papadopoulos    apopse eida oneiro          1950   pop   \n",
      "\n",
      "                                              lyrics  len    dating  violence  \\\n",
      "0  hold time feel break feel untrue convince spea...   95  0.000598  0.063746   \n",
      "1  believe drop rain fall grow believe darkest ni...   51  0.035537  0.096777   \n",
      "2  sweetheart send letter goodbye secret feel bet...   24  0.002770  0.002770   \n",
      "3  kiss lips want stroll charm mambo chacha merin...   54  0.048249  0.001548   \n",
      "4  till darling till matter know till dream live ...   48  0.001350  0.001350   \n",
      "\n",
      "   world/life  ...   sadness  feelings  danceability  loudness  acousticness  \\\n",
      "0    0.000598  ...  0.380299  0.117175      0.357739  0.454119      0.997992   \n",
      "1    0.443435  ...  0.001284  0.001284      0.331745  0.647540      0.954819   \n",
      "2    0.002770  ...  0.002770  0.225422      0.456298  0.585288      0.840361   \n",
      "3    0.001548  ...  0.225889  0.001548      0.686992  0.744404      0.083935   \n",
      "4    0.417772  ...  0.068800  0.001350      0.291671  0.646489      0.975904   \n",
      "\n",
      "   instrumentalness   valence    energy       topic  age  \n",
      "0          0.901822  0.339448  0.137110     sadness  1.0  \n",
      "1          0.000002  0.325021  0.263240  world/life  1.0  \n",
      "2          0.000000  0.351814  0.139112       music  1.0  \n",
      "3          0.199393  0.775350  0.743736    romantic  1.0  \n",
      "4          0.000246  0.597073  0.394375    romantic  1.0  \n",
      "\n",
      "[5 rows x 31 columns]\n",
      "Limpiando las letras...\n",
      "Vectorizando las letras con TF-IDF...\n",
      "Mostrando la forma del conjunto de características (X): (28372, 5000)\n",
      "Extrayendo las etiquetas de género...\n",
      "Dividiendo el conjunto de datos en entrenamiento y prueba...\n",
      "Conjunto de entrenamiento y prueba preparado.\n"
     ]
    }
   ],
   "source": [
    "from functions import *\n",
    "\n",
    "# Descargar stopwords de NLTK si no las tienes\n",
    "print(\"Descargando stopwords de NLTK...\")\n",
    "nltk.download('stopwords')\n",
    "\n",
    "# Cargar la base de datos\n",
    "print(\"Cargando la base de datos...\")\n",
    "df = pd.read_csv('datasets/tcc_ceds_music.csv')\n",
    "\n",
    "print(\"Mostrando las primeras filas del dataset:\")\n",
    "print(df.head())  # Para verificar que los datos se cargaron correctamente\n",
    "\n",
    "# Limpiar las letras\n",
    "print(\"Limpiando las letras...\")\n",
    "df['cleaned_lyrics'] = df['lyrics'].apply(limpiar_texto)\n",
    "\n",
    "# Vectorización usando TF-IDF\n",
    "print(\"Vectorizando las letras con TF-IDF...\")\n",
    "tfidf = TfidfVectorizer(max_features=5000)\n",
    "X = tfidf.fit_transform(df['cleaned_lyrics']).toarray()\n",
    "\n",
    "print(\"Mostrando la forma del conjunto de características (X):\", X.shape)\n",
    "\n",
    "# Etiquetas de género\n",
    "print(\"Extrayendo las etiquetas de género...\")\n",
    "y = df['genre']\n",
    "\n",
    "# Dividir el dataset en entrenamiento y prueba\n",
    "print(\"Dividiendo el conjunto de datos en entrenamiento y prueba...\")\n",
    "X_train, X_test, y_train, y_test = train_test_split(X, y, test_size=0.2, random_state=42)\n",
    "\n",
    "print(\"Conjunto de entrenamiento y prueba preparado.\")"
   ],
   "metadata": {
    "collapsed": false
   }
  },
  {
   "cell_type": "markdown",
   "source": [
    "# Training Models"
   ],
   "metadata": {
    "collapsed": false
   }
  },
  {
   "cell_type": "code",
   "execution_count": 2,
   "outputs": [
    {
     "name": "stdout",
     "output_type": "stream",
     "text": [
      "              precision    recall  f1-score   support\n",
      "\n",
      "       blues       0.32      0.11      0.16       926\n",
      "     country       0.46      0.54      0.50      1123\n",
      "     hip hop       0.53      0.20      0.29       198\n",
      "        jazz       0.48      0.13      0.20       731\n",
      "         pop       0.31      0.71      0.43      1398\n",
      "      reggae       0.69      0.21      0.32       515\n",
      "        rock       0.33      0.15      0.21       784\n",
      "\n",
      "    accuracy                           0.36      5675\n",
      "   macro avg       0.44      0.29      0.30      5675\n",
      "weighted avg       0.41      0.36      0.32      5675\n",
      "\n"
     ]
    }
   ],
   "source": [
    "# Crear el modelo Naive Bayes\n",
    "modelo_nb = MultinomialNB()\n",
    "modelo_nb.fit(X_train, y_train)\n",
    "y_pred = modelo_nb.predict(X_test)\n",
    "print(\"Modelo NB:\")\n",
    "print(classification_report(y_test, y_pred))\n",
    "\n",
    "# Crear un modelo de red neuronal con ajustes\n",
    "modelo_mlp_mejorado = MLPClassifier(hidden_layer_sizes=(256, 128, 64), activation='relu', solver='adam', max_iter=1000, random_state=42)\n",
    "modelo_mlp_mejorado.fit(X_train, y_train)\n",
    "y_pred_mlp_mejorado = modelo_mlp_mejorado.predict(X_test)\n",
    "print(\"MLPClassifier Mejorado:\")\n",
    "print(classification_report(y_test, y_pred_mlp_mejorado))\n",
    "\n",
    "# Crear un modelo de Random Forest\n",
    "modelo_rf = RandomForestClassifier(n_estimators=100, random_state=42)\n",
    "modelo_rf.fit(X_train, y_train)\n",
    "y_pred_rf = modelo_rf.predict(X_test)\n",
    "print(\"Random Forest Classifier:\")\n",
    "print(classification_report(y_test, y_pred_rf))\n",
    "\n",
    "# Crear un modelo de regresión logística\n",
    "modelo_lr = LogisticRegression(max_iter=1000)\n",
    "modelo_lr.fit(X_train, y_train)\n",
    "y_pred_lr = modelo_lr.predict(X_test)\n",
    "print(\"Logistic Regression:\")\n",
    "print(classification_report(y_test, y_pred_lr))\n",
    "\n",
    "# Crear un modelo de SVM\n",
    "modelo_svm = SVC(kernel='linear')\n",
    "modelo_svm.fit(X_train, y_train)\n",
    "y_pred_svm = modelo_svm.predict(X_test)\n",
    "print(\"Support Vector Machine (SVM):\")\n",
    "print(classification_report(y_test, y_pred_svm))\n",
    "\n",
    "# Crear un modelo de Gradient Boosting\n",
    "modelo_gb = GradientBoostingClassifier(n_estimators=100, random_state=42)\n",
    "modelo_gb.fit(X_train, y_train)\n",
    "y_pred_gb = modelo_gb.predict(X_test)\n",
    "print(\"Gradient Boosting Classifier:\")\n",
    "print(classification_report(y_test, y_pred_gb))\n",
    "\n",
    "joblib.dump(modelo_nb, 'models/modelo_naive_bayes.pkl')\n",
    "joblib.dump(modelo_mlp_mejorado, 'models/modelo_mlp_mejorado.pkl')\n",
    "joblib.dump(modelo_rf, 'models/modelo_rf.pkl')\n",
    "joblib.dump(modelo_lr, 'models/modelo_lr.pkl')\n",
    "joblib.dump(modelo_svm, 'models/modelo_svm.pkl')\n",
    "joblib.dump(modelo_gb, 'models/modelo_gb.pkl')\n",
    "joblib.dump(tfidf, 'models/tfidf.pkl')"
   ],
   "metadata": {
    "collapsed": false
   }
  },
  {
   "cell_type": "markdown",
   "source": [
    "# Training models V2"
   ],
   "metadata": {
    "collapsed": false
   }
  },
  {
   "cell_type": "code",
   "execution_count": null,
   "outputs": [
    {
     "name": "stdout",
     "output_type": "stream",
     "text": [
      "Naive Bayes Mejorado:\n",
      "              precision    recall  f1-score   support\n",
      "\n",
      "       blues       0.32      0.13      0.19       926\n",
      "     country       0.46      0.56      0.50      1123\n",
      "     hip hop       0.41      0.40      0.40       198\n",
      "        jazz       0.46      0.16      0.24       731\n",
      "         pop       0.33      0.64      0.43      1398\n",
      "      reggae       0.63      0.28      0.39       515\n",
      "        rock       0.33      0.20      0.25       784\n",
      "\n",
      "    accuracy                           0.38      5675\n",
      "   macro avg       0.42      0.34      0.34      5675\n",
      "weighted avg       0.40      0.38      0.35      5675\n",
      "\n"
     ]
    }
   ],
   "source": [
    "# Naive Bayes con suavizado (alpha ajustado)\n",
    "modelo_nb_v2 = MultinomialNB(alpha=0.5)  # Ajusta alpha para suavizado\n",
    "modelo_nb_v2.fit(X_train, y_train)\n",
    "y_pred_nb_v2 = modelo_nb_v2.predict(X_test)\n",
    "print(\"Naive Bayes Mejorado:\")\n",
    "print(classification_report(y_test, y_pred_nb_v2))\n",
    "\n",
    "\n",
    "# Red neuronal con más capas y ajuste de learning rate\n",
    "modelo_mlp_mejorado_v2 = MLPClassifier(hidden_layer_sizes=(512, 256, 128, 64),\n",
    "                                       activation='relu',\n",
    "                                       solver='adam',\n",
    "                                       learning_rate='adaptive',\n",
    "                                       max_iter=1500,\n",
    "                                       random_state=42)\n",
    "\n",
    "modelo_mlp_mejorado_v2.fit(X_train, y_train)\n",
    "y_pred_mlp_mejorado_v2 = modelo_mlp_mejorado_v2.predict(X_test)\n",
    "print(\"MLPClassifier Mejorado V2:\")\n",
    "print(classification_report(y_test, y_pred_mlp_mejorado_v2))\n",
    "\n",
    "\n",
    "# Random Forest con más estimadores y mayor profundidad\n",
    "modelo_rf_v2 = RandomForestClassifier(n_estimators=300, max_depth=20, random_state=42)\n",
    "modelo_rf_v2.fit(X_train, y_train)\n",
    "y_pred_rf_v2 = modelo_rf_v2.predict(X_test)\n",
    "print(\"Random Forest Classifier V2:\")\n",
    "print(classification_report(y_test, y_pred_rf_v2))\n",
    "\n",
    "\n",
    "# Regresión logística con regularización ajustada\n",
    "modelo_lr_v2 = LogisticRegression(max_iter=1500, C=0.5)  # C más bajo aplica más regularización\n",
    "modelo_lr_v2.fit(X_train, y_train)\n",
    "y_pred_lr_v2 = modelo_lr_v2.predict(X_test)\n",
    "print(\"Logistic Regression V2:\")\n",
    "print(classification_report(y_test, y_pred_lr_v2))\n",
    "\n",
    "\n",
    "# SVM con kernel no lineal\n",
    "modelo_svm_v2 = SVC(kernel='rbf', C=1.0)  # Kernel rbf es no lineal\n",
    "modelo_svm_v2.fit(X_train, y_train)\n",
    "y_pred_svm_v2 = modelo_svm_v2.predict(X_test)\n",
    "print(\"Support Vector Machine V2:\")\n",
    "print(classification_report(y_test, y_pred_svm_v2))\n",
    "\n",
    "\n",
    "# Gradient Boosting con más estimadores y mayor profundidad\n",
    "modelo_gb_v2 = GradientBoostingClassifier(n_estimators=300, max_depth=5, random_state=42)\n",
    "modelo_gb_v2.fit(X_train, y_train)\n",
    "y_pred_gb_v2 = modelo_gb_v2.predict(X_test)\n",
    "print(\"Gradient Boosting Classifier V2:\")\n",
    "print(classification_report(y_test, y_pred_gb_v2))\n",
    "\n",
    "# Guardar los modelos mejorados\n",
    "joblib.dump(modelo_nb_v2, 'models/modelo_naive_bayes_v2.pkl')\n",
    "joblib.dump(modelo_mlp_mejorado_v2, 'models/modelo_mlp_mejorado_v2.pkl')\n",
    "joblib.dump(modelo_rf_v2, 'models/modelo_rf_v2.pkl')\n",
    "joblib.dump(modelo_lr_v2, 'models/modelo_lr_v2.pkl')\n",
    "joblib.dump(modelo_svm_v2, 'models/modelo_svm_v2.pkl')\n",
    "joblib.dump(modelo_gb_v2, 'models/modelo_gb_v2.pkl')"
   ],
   "metadata": {
    "collapsed": false,
    "pycharm": {
     "is_executing": true
    }
   }
  },
  {
   "cell_type": "code",
   "execution_count": null,
   "outputs": [],
   "source": [],
   "metadata": {
    "collapsed": false
   }
  }
 ],
 "metadata": {
  "kernelspec": {
   "display_name": "Python 3",
   "language": "python",
   "name": "python3"
  },
  "language_info": {
   "codemirror_mode": {
    "name": "ipython",
    "version": 2
   },
   "file_extension": ".py",
   "mimetype": "text/x-python",
   "name": "python",
   "nbconvert_exporter": "python",
   "pygments_lexer": "ipython2",
   "version": "2.7.6"
  }
 },
 "nbformat": 4,
 "nbformat_minor": 0
}
