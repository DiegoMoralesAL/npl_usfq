{
 "cells": [
  {
   "cell_type": "code",
   "execution_count": 1,
   "outputs": [
    {
     "name": "stdout",
     "output_type": "stream",
     "text": [
      "Descargando stopwords de NLTK...\n"
     ]
    },
    {
     "name": "stderr",
     "output_type": "stream",
     "text": [
      "[nltk_data] Downloading package stopwords to\n",
      "[nltk_data]     C:\\Users\\diego\\AppData\\Roaming\\nltk_data...\n",
      "[nltk_data]   Package stopwords is already up-to-date!\n"
     ]
    },
    {
     "name": "stdout",
     "output_type": "stream",
     "text": [
      "songs\\In The End [Official HD Music Video] - Linkin Park.webm\n"
     ]
    }
   ],
   "source": [
    "from functions import *\n",
    "\n",
    "print(\"Descargando stopwords de NLTK...\")\n",
    "nltk.download('stopwords')\n",
    "\n",
    "url = 'https://www.youtube.com/watch?v=eVTXPUF4Oz4'\n",
    "\n",
    "audio_file = itags(url)\n",
    "print(audio_file)"
   ],
   "metadata": {
    "collapsed": false
   }
  },
  {
   "cell_type": "code",
   "execution_count": 2,
   "outputs": [
    {
     "name": "stdout",
     "output_type": "stream",
     "text": [
      "MoviePy - Writing audio in songs\\In The End [Official HD Music Video] - Linkin Park-60secs.mp3\n"
     ]
    },
    {
     "name": "stderr",
     "output_type": "stream",
     "text": [
      "                                                                      \r"
     ]
    },
    {
     "name": "stdout",
     "output_type": "stream",
     "text": [
      "MoviePy - Done.\n",
      "Archivo guardado como: songs\\In The End [Official HD Music Video] - Linkin Park-60secs.mp3\n",
      "songs\\In The End [Official HD Music Video] - Linkin Park-60secs.mp3\n"
     ]
    }
   ],
   "source": [
    "audio_file_60 = extract_60_secs(audio_file)\n",
    "print(audio_file_60)"
   ],
   "metadata": {
    "collapsed": false
   }
  },
  {
   "cell_type": "code",
   "execution_count": 3,
   "outputs": [
    {
     "name": "stdout",
     "output_type": "stream",
     "text": [
      "Transcripción: died in mind I designed this rhyme to remind myself how I tried so hard in spite of the way you were mocking me acting like I was part of your property remembering all the times you fought with me I'm surprised they got so\n",
      "Transcripción:  recognize me anymore not that you knew me back then but it all comes back to me in the end\n",
      "Transcripción:  everything inside\n",
      "Transcripción:  oh I tried\n",
      "Transcripción:  fell apart\n",
      "Transcripción:  it doesn't even matter\n",
      "Transcripción:  but\n",
      "Transcripción:  in you\n",
      "Transcripción:  step far as I can go\n",
      "died in mind I designed this rhyme to remind myself how I tried so hard in spite of the way you were mocking me acting like I was part of your property remembering all the times you fought with me I'm surprised they got so  recognize me anymore not that you knew me back then but it all comes back to me in the end  everything inside  oh I tried  fell apart  it doesn't even matter  but  in you  step far as I can go\n"
     ]
    }
   ],
   "source": [
    "# Configurar credenciales de Google Cloud\n",
    "os.environ[\"GOOGLE_APPLICATION_CREDENTIALS\"] = \"keys/dsma-410321-dfea94bcf18f.json\"\n",
    "\n",
    "peso_full_lyrics = 3\n",
    "separate_lyrics = transcribe_audio(audio_file_60)\n",
    "full_lyrics = ' '.join(separate_lyrics)\n",
    "print(full_lyrics)"
   ],
   "metadata": {
    "collapsed": false
   }
  },
  {
   "cell_type": "code",
   "execution_count": 8,
   "outputs": [
    {
     "name": "stdout",
     "output_type": "stream",
     "text": [
      "['jazz']\n",
      "['jazz']\n",
      "['jazz']\n",
      "['jazz']\n",
      "['jazz']\n",
      "['pop']\n",
      "['pop']\n",
      "['pop']\n",
      "['jazz']\n",
      "['pop']\n",
      "['pop']\n",
      "['blues']\n",
      "['pop']\n",
      "['rock']\n",
      "['jazz']\n",
      "['rock']\n",
      "['rock']\n",
      "['pop']\n",
      "['pop']\n",
      "['pop']\n",
      "['jazz']\n",
      "['pop']\n",
      "['pop']\n",
      "['pop']\n",
      "['pop']\n",
      "['blues']\n",
      "['jazz']\n",
      "['pop']\n",
      "['pop']\n",
      "['hip hop']\n",
      "['pop']\n",
      "['country']\n",
      "['jazz']\n",
      "['pop']\n",
      "['pop']\n",
      "['pop']\n",
      "['pop']\n",
      "['pop']\n",
      "['jazz']\n",
      "['pop']\n",
      "['pop']\n",
      "['pop']\n",
      "['pop']\n",
      "['pop']\n",
      "['jazz']\n",
      "['pop']\n",
      "['pop']\n",
      "['pop']\n",
      "['pop']\n",
      "['pop']\n",
      "['jazz']\n",
      "['blues']\n",
      "['blues']\n",
      "['pop']\n",
      "['country']\n",
      "['pop']\n",
      "['jazz']\n",
      "['jazz']\n",
      "['jazz']\n",
      "['pop']\n",
      "\n",
      "Resultados v1:\n",
      "Counter({'pop': 38, np.str_('jazz'): 22, 'blues': 4, np.str_('country'): 4, np.str_('rock'): 3, 'hip hop': 1})\n",
      "\n",
      "Porcentajes v1 (ordenados):\n",
      "pop: 52.78%\n",
      "jazz: 30.56%\n",
      "blues: 5.56%\n",
      "country: 5.56%\n",
      "rock: 4.17%\n",
      "hip hop: 1.39%\n"
     ]
    }
   ],
   "source": [
    "# Inicializar los contadores para cada versión\n",
    "resultados_v1 = Counter()\n",
    "\n",
    "modelo_nb_v1 = joblib.load('models/modelo_naive_bayes.pkl')\n",
    "modelo_mlp_v1 = joblib.load('models/modelo_mlp_mejorado.pkl')\n",
    "modelo_rf_v1 = joblib.load('models/modelo_rf.pkl')\n",
    "modelo_lr_v1 = joblib.load('models/modelo_lr.pkl')\n",
    "modelo_svm_v1 = joblib.load('models/modelo_svm.pkl')\n",
    "modelo_gb_v1 = joblib.load('models/modelo_gb.pkl')\n",
    "\n",
    "# Predecir el género para cada parte por separado (v1)\n",
    "for letra in separate_lyrics:\n",
    "    if letra == '':\n",
    "        continue\n",
    "    # Predicción con los modelos v1\n",
    "    resultados_v1[predecir_genero(modelo_nb_v1, letra)] += 1\n",
    "    resultados_v1[predecir_genero(modelo_mlp_v1, letra)] += 1\n",
    "    resultados_v1[predecir_genero(modelo_rf_v1, letra)] += 1\n",
    "    resultados_v1[predecir_genero(modelo_lr_v1, letra)] += 1\n",
    "    resultados_v1[predecir_genero(modelo_svm_v1, letra)] += 1\n",
    "    resultados_v1[predecir_genero(modelo_gb_v1, letra)] += 1\n",
    "\n",
    "# Predicción para el conjunto de lyrics con modelos v1 (agregando su peso)\n",
    "resultados_v1[predecir_genero(modelo_nb_v1, full_lyrics)] += peso_full_lyrics\n",
    "resultados_v1[predecir_genero(modelo_mlp_v1, full_lyrics)] += peso_full_lyrics\n",
    "resultados_v1[predecir_genero(modelo_rf_v1, full_lyrics)] += peso_full_lyrics\n",
    "resultados_v1[predecir_genero(modelo_lr_v1, full_lyrics)] += peso_full_lyrics\n",
    "resultados_v1[predecir_genero(modelo_svm_v1, full_lyrics)] += peso_full_lyrics\n",
    "resultados_v1[predecir_genero(modelo_gb_v1, full_lyrics)] += peso_full_lyrics\n",
    "\n",
    "# Mostrar resultados por separado\n",
    "print(\"\\nResultados v1:\")\n",
    "print(resultados_v1)\n",
    "\n",
    "# Calcular el total de predicciones sumando todas\n",
    "total_predicciones_v1 = sum(resultados_v1.values())\n",
    "\n",
    "# Generar porcentajes (dividiendo cada valor entre el total de predicciones)\n",
    "porcentajes_v1 = {k: (v / total_predicciones_v1) * 100 for k, v in resultados_v1.items()}\n",
    "\n",
    "# Mostrar los porcentajes v1 ordenados\n",
    "print(\"\\nPorcentajes v1 (ordenados):\")\n",
    "for genero, porcentaje in sorted(porcentajes_v1.items(), key=lambda item: item[1], reverse=True):\n",
    "    print(f\"{genero}: {porcentaje:.2f}%\")"
   ],
   "metadata": {
    "collapsed": false
   }
  },
  {
   "cell_type": "code",
   "execution_count": null,
   "outputs": [],
   "source": [
    "# Inicializar los contadores para cada versión\n",
    "resultados_v2 = Counter()\n",
    "\n",
    "# Cargar los modelos v2\n",
    "modelo_nb_v2 = joblib.load('models/modelo_naive_bayes_v2.pkl')\n",
    "modelo_mlp_v2 = joblib.load('models/modelo_mlp_mejorado_v2.pkl')\n",
    "modelo_rf_v2 = joblib.load('models/modelo_rf_v2.pkl')\n",
    "modelo_lr_v2 = joblib.load('models/modelo_lr_v2.pkl')\n",
    "modelo_svm_v2 = joblib.load('models/modelo_svm_v2.pkl')\n",
    "modelo_gb_v2 = joblib.load('models/modelo_gb_v2.pkl')\n",
    "\n",
    "# Predecir el género para cada parte por separado (v2)\n",
    "for letra in separate_lyrics:\n",
    "    if letra == '':\n",
    "        continue\n",
    "    # Predicción con los modelos v2\n",
    "    resultados_v2[predecir_genero(modelo_nb_v2, letra)] += 1\n",
    "    resultados_v2[predecir_genero(modelo_mlp_v2, letra)] += 1\n",
    "    resultados_v2[predecir_genero(modelo_rf_v2, letra)] += 1\n",
    "    resultados_v2[predecir_genero(modelo_lr_v2, letra)] += 1\n",
    "    resultados_v2[predecir_genero(modelo_svm_v2, letra)] += 1\n",
    "    resultados_v2[predecir_genero(modelo_gb_v2, letra)] += 1\n",
    "\n",
    "# Predicción para el conjunto de lyrics con modelos v2 (agregando su peso)\n",
    "resultados_v2[predecir_genero(modelo_nb_v2, full_lyrics)] += peso_full_lyrics\n",
    "resultados_v2[predecir_genero(modelo_mlp_v2, full_lyrics)] += peso_full_lyrics\n",
    "resultados_v2[predecir_genero(modelo_rf_v2, full_lyrics)] += peso_full_lyrics\n",
    "resultados_v2[predecir_genero(modelo_lr_v2, full_lyrics)] += peso_full_lyrics\n",
    "resultados_v2[predecir_genero(modelo_svm_v2, full_lyrics)] += peso_full_lyrics\n",
    "resultados_v2[predecir_genero(modelo_gb_v2, full_lyrics)] += peso_full_lyrics\n",
    "\n",
    "\n",
    "# Mostrar resultados por separado\n",
    "print(\"\\nResultados v2:\")\n",
    "print(resultados_v2)\n",
    "\n",
    "# Calcular el total de predicciones sumando todas\n",
    "total_predicciones_v2 = sum(resultados_v2.values())\n",
    "\n",
    "# Generar porcentajes (dividiendo cada valor entre el total de predicciones)\n",
    "porcentajes_v2 = {k: (v / total_predicciones_v2) * 100 for k, v in resultados_v2.items()}\n",
    "\n",
    "# Mostrar los porcentajes v2 ordenados\n",
    "print(\"\\nPorcentajes v2 (ordenados):\")\n",
    "for genero, porcentaje in sorted(porcentajes_v2.items(), key=lambda item: item[1], reverse=True):\n",
    "    print(f\"{genero}: {porcentaje:.2f}%\")"
   ],
   "metadata": {
    "collapsed": false
   }
  }
 ],
 "metadata": {
  "kernelspec": {
   "display_name": "Python 3",
   "language": "python",
   "name": "python3"
  },
  "language_info": {
   "codemirror_mode": {
    "name": "ipython",
    "version": 2
   },
   "file_extension": ".py",
   "mimetype": "text/x-python",
   "name": "python",
   "nbconvert_exporter": "python",
   "pygments_lexer": "ipython2",
   "version": "2.7.6"
  }
 },
 "nbformat": 4,
 "nbformat_minor": 0
}
