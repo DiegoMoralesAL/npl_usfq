{
 "cells": [
  {
   "cell_type": "code",
   "execution_count": 26,
   "metadata": {
    "collapsed": true
   },
   "outputs": [],
   "source": [
    "import re"
   ]
  },
  {
   "cell_type": "code",
   "execution_count": 31,
   "outputs": [],
   "source": [
    "# Define the chatbot logic\n",
    "def chatbot_response(user_input):\n",
    "    global greeting, question_count\n",
    "\n",
    "    # Define regex patterns\n",
    "    greeting_pattern = r'\\b(hi|hello|hey)\\b'\n",
    "    weather_pattern = r'\\b(weather)\\b'\n",
    "    stock_pattern = r'\\b(stock|market)\\b'\n",
    "    exit_pattern = r'\\b(bye|goodbye|exit)\\b'\n",
    "\n",
    "    question_count += 1\n",
    "\n",
    "    if question_count < max_questions:\n",
    "        # Greeting logic\n",
    "        if re.search(greeting_pattern, user_input, re.IGNORECASE) and not greeting:\n",
    "            greeting = True\n",
    "            return \"Hello! You can ask me about the weather or the stock market. What would you like to know?\"\n",
    "\n",
    "        # Main conversation logic\n",
    "        if greeting:\n",
    "                if re.search(weather_pattern, user_input, re.IGNORECASE):\n",
    "                    return \"The weather today is sunny with a chance of rain. Do you have another question?\"\n",
    "                elif re.search(stock_pattern, user_input, re.IGNORECASE):\n",
    "                    return \"The stock market is up by 2% today. Do you have another question?\"\n",
    "                else:\n",
    "                    return \"I'm sorry, I can only help with questions about the weather or the stock market.\"\n",
    "\n",
    "        # Exit logic\n",
    "        if re.search(exit_pattern, user_input, re.IGNORECASE):\n",
    "            return \"Goodbye! Have a great day!\"\n",
    "\n",
    "        # If no valid input, return default message\n",
    "        return \"I'm here to help with the weather or the stock market. What would you like to know?\"\n",
    "\n",
    "    else:\n",
    "        return \"You've reached the maximum number of questions. Goodbye!\"\n",
    "\n",
    "\n",
    "# Chatbot interaction loop for Colab\n",
    "def run_chatbot():\n",
    "    global greeting, question_count\n",
    "    for _ in range(max_questions):\n",
    "        user_input = input(\"You: \")\n",
    "        print(f\"You: {user_input}\")\n",
    "        response = chatbot_response(user_input)\n",
    "        print(f\"Bot: {response}\")\n",
    "\n",
    "        if response.lower().startswith(\"goodbye\"):\n",
    "            break"
   ],
   "metadata": {
    "collapsed": false
   }
  },
  {
   "cell_type": "code",
   "execution_count": 32,
   "outputs": [
    {
     "name": "stdout",
     "output_type": "stream",
     "text": [
      "You: \n",
      "Bot: You've reached the maximum number of questions. Goodbye!\n"
     ]
    }
   ],
   "source": [
    "# Initialize chatbot state\n",
    "greeting = False\n",
    "question_count = 0\n",
    "max_questions = 10\n",
    "\n",
    "# Run the chatbot in Google Colab\n",
    "run_chatbot()"
   ],
   "metadata": {
    "collapsed": false
   }
  },
  {
   "cell_type": "code",
   "execution_count": null,
   "outputs": [],
   "source": [],
   "metadata": {
    "collapsed": false
   }
  }
 ],
 "metadata": {
  "kernelspec": {
   "display_name": "Python 3",
   "language": "python",
   "name": "python3"
  },
  "language_info": {
   "codemirror_mode": {
    "name": "ipython",
    "version": 2
   },
   "file_extension": ".py",
   "mimetype": "text/x-python",
   "name": "python",
   "nbconvert_exporter": "python",
   "pygments_lexer": "ipython2",
   "version": "2.7.6"
  }
 },
 "nbformat": 4,
 "nbformat_minor": 0
}
